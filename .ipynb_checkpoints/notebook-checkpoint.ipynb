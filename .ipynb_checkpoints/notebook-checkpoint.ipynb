{
 "cells": [
  {
   "cell_type": "code",
   "execution_count": 1,
   "id": "cfb7b8e6-3690-4cc5-8afc-d261d026ba2a",
   "metadata": {},
   "outputs": [],
   "source": [
    "import os\n",
    "import time\n",
    "\n",
    "import audiofile\n",
    "import numpy as np"
   ]
  },
  {
   "cell_type": "code",
   "execution_count": 2,
   "id": "1cae3052-e953-40e6-bd78-1e69e306ae15",
   "metadata": {},
   "outputs": [],
   "source": [
    "BASE_DIRECTORY = \"/Users/devinkott/Documents/datasets/nsynth-test/audio\"\n",
    "NUM_MFCC_FEATURES = 40"
   ]
  },
  {
   "cell_type": "code",
   "execution_count": 3,
   "id": "6bfa57a9-14a9-4eb4-91b4-785c1178a62b",
   "metadata": {},
   "outputs": [],
   "source": [
    "def grab_label(file: str) -> str:\n",
    "    '''\n",
    "    Grabs the label (the instrument) from the filename of the WAV audio file.\n",
    "    '''\n",
    "    return file.split(\"/\")[-1].split(\".\")[0].split(\"_\")[0]"
   ]
  },
  {
   "cell_type": "code",
   "execution_count": 22,
   "id": "45471e9a-501c-4af3-968c-bb7601a10483",
   "metadata": {},
   "outputs": [],
   "source": [
    "def grab_features(file: str, num_features: int) -> str:\n",
    "    sig, sr = audiofile.read(file)\n",
    "    return sg"
   ]
  },
  {
   "cell_type": "code",
   "execution_count": 23,
   "id": "827a8b36-b157-4448-9662-e97d831427f5",
   "metadata": {},
   "outputs": [],
   "source": [
    "def load(directory: str, num_features: int):\n",
    "    '''\n",
    "    Loads an entire directory of WAV of audio files.\n",
    "    '''\n",
    "    start = time.time()\n",
    "    X = []\n",
    "    y = []\n",
    "    \n",
    "    if os.path.isdir(directory) is False:\n",
    "        return [], [], 0, \"'%s' is not a directory\" % directory\n",
    "    \n",
    "    # Get a list of files in the directory. They should be full paths.\n",
    "    files = [os.path.join(directory, name) for name in os.listdir(\"%s\" % directory)]\n",
    "    \n",
    "    # Grab the features and label for each audio file.\n",
    "    for file in files[:5]:\n",
    "        features = grab_features(file=file, num_features=num_features)\n",
    "        label = grab_label(file=file)\n",
    "        \n",
    "        X.append(features)\n",
    "        y.append(label)\n",
    "        \n",
    "    elapsed = time.time() - start\n",
    "    return X, y, elapsed, None"
   ]
  },
  {
   "cell_type": "code",
   "execution_count": 24,
   "id": "7dc91e82-bbcb-46d1-b36a-97d43098779e",
   "metadata": {},
   "outputs": [
    {
     "name": "stdout",
     "output_type": "stream",
     "text": [
      "(64000,)\n",
      "(64000,)\n",
      "(64000,)\n",
      "(64000,)\n",
      "(64000,)\n",
      "Loaded 5 files in 0.018092 seconds.\n"
     ]
    }
   ],
   "source": [
    "X, y, elapsed, error_msg = load(directory=BASE_DIRECTORY, num_features=NUM_MFCC_FEATURES)\n",
    "\n",
    "if error_msg is None:\n",
    "    print(\"Loaded %d files in %f seconds.\" % (len(X), elapsed))\n",
    "else:\n",
    "    print(\"%s\" % (error_msg))"
   ]
  },
  {
   "cell_type": "code",
   "execution_count": null,
   "id": "09fa603f-ca25-4201-9c05-300fbbbc5834",
   "metadata": {},
   "outputs": [],
   "source": []
  }
 ],
 "metadata": {
  "kernelspec": {
   "display_name": "Python 3",
   "language": "python",
   "name": "python3"
  },
  "language_info": {
   "codemirror_mode": {
    "name": "ipython",
    "version": 3
   },
   "file_extension": ".py",
   "mimetype": "text/x-python",
   "name": "python",
   "nbconvert_exporter": "python",
   "pygments_lexer": "ipython3",
   "version": "3.9.5"
  }
 },
 "nbformat": 4,
 "nbformat_minor": 5
}
